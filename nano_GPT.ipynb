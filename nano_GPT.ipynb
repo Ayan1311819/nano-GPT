{
  "cells": [
    {
      "cell_type": "markdown",
      "metadata": {
        "id": "view-in-github",
        "colab_type": "text"
      },
      "source": [
        "<a href=\"https://colab.research.google.com/github/Ayan1311819/nano-GPT/blob/main/nano_GPT.ipynb\" target=\"_parent\"><img src=\"https://colab.research.google.com/assets/colab-badge.svg\" alt=\"Open In Colab\"/></a>"
      ]
    },
    {
      "cell_type": "code",
      "execution_count": 21,
      "metadata": {
        "id": "sq9zsx_Fqsmx"
      },
      "outputs": [],
      "source": []
    },
    {
      "cell_type": "code",
      "execution_count": 22,
      "metadata": {
        "colab": {
          "base_uri": "https://localhost:8080/"
        },
        "id": "h5hjCcLDr2WC",
        "outputId": "d55e00df-8929-42d1-f536-1c7d85e05404"
      },
      "outputs": [
        {
          "output_type": "stream",
          "name": "stdout",
          "text": [
            "--2024-08-26 17:51:43--  https://raw.githubusercontent.com/karpathy/char-rnn/master/data/tinyshakespeare/input.txt\n",
            "Resolving raw.githubusercontent.com (raw.githubusercontent.com)... 185.199.111.133, 185.199.109.133, 185.199.108.133, ...\n",
            "Connecting to raw.githubusercontent.com (raw.githubusercontent.com)|185.199.111.133|:443... connected.\n",
            "HTTP request sent, awaiting response... 200 OK\n",
            "Length: 1115394 (1.1M) [text/plain]\n",
            "Saving to: ‘input.txt.1’\n",
            "\n",
            "\rinput.txt.1           0%[                    ]       0  --.-KB/s               \rinput.txt.1         100%[===================>]   1.06M  --.-KB/s    in 0.02s   \n",
            "\n",
            "2024-08-26 17:51:43 (44.3 MB/s) - ‘input.txt.1’ saved [1115394/1115394]\n",
            "\n"
          ]
        }
      ],
      "source": [
        "# We always start with a dataset to train on. Let's download the tiny shakespeare dataset\n",
        "!wget https://raw.githubusercontent.com/karpathy/char-rnn/master/data/tinyshakespeare/input.txt"
      ]
    },
    {
      "cell_type": "code",
      "execution_count": 23,
      "metadata": {
        "colab": {
          "base_uri": "https://localhost:8080/"
        },
        "id": "HDA_7lOBsS6K",
        "outputId": "3512fd7c-cebe-4eb8-af0e-07f5f4696095"
      },
      "outputs": [
        {
          "output_type": "stream",
          "name": "stdout",
          "text": [
            "Length of dataset in char:  1115394\n",
            "First Citizen:\n",
            "Before we proceed any further, hear me speak.\n",
            "\n",
            "All:\n",
            "Speak, speak.\n",
            "\n",
            "First Citizen:\n",
            "You are all resolved rather to die than to famish?\n",
            "\n",
            "All:\n",
            "Resolved. resolved.\n",
            "\n",
            "First Citizen:\n",
            "First, you know Caius Marcius is chief enemy to the people.\n",
            "\n",
            "All:\n",
            "We know't, we know't.\n",
            "\n",
            "First Citizen:\n",
            "Let us kill him, and we'll have corn at our own price.\n",
            "Is't a verdict?\n",
            "\n",
            "All:\n",
            "No more talking on't; let it be done: away, away!\n",
            "\n",
            "Second Citizen:\n",
            "One word, good citizens.\n",
            "\n",
            "First Citizen:\n",
            "We are accounted poor citizens, the patricians good.\n",
            "What authority surfeits on would relieve us: if they\n",
            "would yield us but the superfluity, while it were\n",
            "wholesome, we might guess they relieved us humanely;\n",
            "but they think we are too dear: the leanness that\n",
            "afflicts us, the object of our misery, is as an\n",
            "inventory to particularise their abundance; our\n",
            "sufferance is a gain to them Let us revenge this with\n",
            "our pikes, ere we become rakes: for the gods know I\n",
            "speak this in hunger for bread, not in thirst for revenge.\n",
            "\n",
            "\n"
          ]
        }
      ],
      "source": [
        "#reading it\n",
        "with open('input.txt','r',encoding='utf-8') as f:\n",
        "  text = f.read()\n",
        "  print(\"Length of dataset in char: \", len(text))\n",
        "  print(text[:1000])\n",
        "\n",
        "\n",
        "\n",
        "\n",
        "\n",
        "\n",
        "\n",
        "\n",
        "\n",
        "\n",
        "\n"
      ]
    },
    {
      "cell_type": "code",
      "execution_count": 24,
      "metadata": {
        "colab": {
          "base_uri": "https://localhost:8080/"
        },
        "id": "hbNPdzLDtSSj",
        "outputId": "8d6e1c09-557e-42ac-b3e0-d409f6e2f355"
      },
      "outputs": [
        {
          "output_type": "stream",
          "name": "stdout",
          "text": [
            "\n",
            " !$&',-.3:;?ABCDEFGHIJKLMNOPQRSTUVWXYZabcdefghijklmnopqrstuvwxyz\n",
            "65\n"
          ]
        }
      ],
      "source": [
        "#occurance of unique characters\n",
        "chars = sorted(list(set(text)))\n",
        "vocab_size = len(chars)\n",
        "print(''.join(chars))\n",
        "print(vocab_size)"
      ]
    },
    {
      "cell_type": "code",
      "execution_count": 25,
      "metadata": {
        "colab": {
          "base_uri": "https://localhost:8080/"
        },
        "id": "caV23pFYxjAR",
        "outputId": "f50ecddc-ef2c-4423-b549-3e872caed31f"
      },
      "outputs": [
        {
          "output_type": "stream",
          "name": "stdout",
          "text": [
            "[46, 47, 47, 1, 58, 46, 43, 56, 43]\n",
            "hii there\n"
          ]
        }
      ],
      "source": [
        "#a mapping from character to integers\n",
        "stoi = {ch:i for i, ch in enumerate(chars)}\n",
        "itos = {i:ch for i, ch in enumerate(chars)}\n",
        "encode = lambda s: [stoi[c] for c in s] # iterates over each char in string s\n",
        "decode = lambda l : ''.join([itos[i] for i in l]) # decoder\n",
        "print(encode(\"hii there\"))\n",
        "print(decode(encode(\"hii there\")))"
      ]
    },
    {
      "cell_type": "code",
      "execution_count": 26,
      "metadata": {
        "colab": {
          "base_uri": "https://localhost:8080/"
        },
        "id": "6X4vZmAyl7lD",
        "outputId": "07a39b0f-5628-416a-9731-4e6d2b9d030e"
      },
      "outputs": [
        {
          "output_type": "stream",
          "name": "stdout",
          "text": [
            "Requirement already satisfied: tiktoken in /usr/local/lib/python3.10/dist-packages (0.7.0)\n",
            "Requirement already satisfied: regex>=2022.1.18 in /usr/local/lib/python3.10/dist-packages (from tiktoken) (2024.5.15)\n",
            "Requirement already satisfied: requests>=2.26.0 in /usr/local/lib/python3.10/dist-packages (from tiktoken) (2.32.3)\n",
            "Requirement already satisfied: charset-normalizer<4,>=2 in /usr/local/lib/python3.10/dist-packages (from requests>=2.26.0->tiktoken) (3.3.2)\n",
            "Requirement already satisfied: idna<4,>=2.5 in /usr/local/lib/python3.10/dist-packages (from requests>=2.26.0->tiktoken) (3.7)\n",
            "Requirement already satisfied: urllib3<3,>=1.21.1 in /usr/local/lib/python3.10/dist-packages (from requests>=2.26.0->tiktoken) (2.0.7)\n",
            "Requirement already satisfied: certifi>=2017.4.17 in /usr/local/lib/python3.10/dist-packages (from requests>=2.26.0->tiktoken) (2024.7.4)\n"
          ]
        }
      ],
      "source": [
        "pip install tiktoken"
      ]
    },
    {
      "cell_type": "code",
      "execution_count": 27,
      "metadata": {
        "colab": {
          "base_uri": "https://localhost:8080/"
        },
        "id": "QNnOw8dDlYy6",
        "outputId": "217826d9-af9e-4629-a16b-0abdb2e74443"
      },
      "outputs": [
        {
          "output_type": "stream",
          "name": "stdout",
          "text": [
            "50257\n",
            "[71, 4178, 612]\n",
            "8bteredIows\n",
            "M\n",
            "ies\n",
            " ended\n",
            "torch.Size([284]) torch.int64\n",
            "tensor([ 5962, 22307,    25,   198,  8421,   356,  5120,   597,  2252,    11,\n",
            "         3285,   502,  2740,    13,   198,   198,  3237,    25,   198,  5248,\n",
            "          461,    11,  2740,    13,   198,   198,  5962, 22307,    25,   198,\n",
            "         1639,   389,   477, 12939,  2138,   284,  4656,   621,   284,  1145,\n",
            "          680,    30,   198,   198,  3237,    25,   198,  4965,  5634,    13,\n",
            "        12939,    13,   198,   198,  5962, 22307,    25,   198,  5962,    11,\n",
            "          345,   760,   327,  1872,   385,  1526, 28599,   318,  4039,  4472,\n",
            "          284,   262,   661,    13,   198,   198,  3237,    25,   198,  1135,\n",
            "          760,   470,    11,   356,   760,   470,    13,   198,   198,  5962,\n",
            "        22307,    25,   198,  5756,   514,  1494,   683,    11,   290,   356,\n",
            "         1183,   423, 11676,   379,   674,   898,  2756,    13,   198,  3792,\n",
            "          470,   257, 15593,    30,   198,   198,  3237,    25,   198,  2949,\n",
            "          517,  3375,   319,   470,    26,  1309,   340,   307,  1760,    25,\n",
            "         1497,    11,  1497,     0,   198,   198, 12211, 22307,    25,   198,\n",
            "         3198,  1573,    11,   922,  4290,    13,   198,   198,  5962, 22307,\n",
            "           25,   198,  1135,   389, 17830,  3595,  4290,    11,   262,  1458,\n",
            "         1173,  1547,   922,    13,   198,  2061,  4934,   969,  5036,   896,\n",
            "          319,   561, 26958,   514,    25,   611,   484,   198, 19188,  7800,\n",
            "          514,   475,   262, 48713,   414,    11,   981,   340,   547,   198,\n",
            "         1929,  4316,   462,    11,   356,  1244,  4724,   484, 22598,   514,\n",
            "        31533,   306,    26,   198,  4360,   484,   892,   356,   389,  1165,\n",
            "        13674,    25,   262, 10904,  1108,   326,   198,  2001, 42267,   514,\n",
            "           11,   262,  2134,   286,   674, 24672,    11,   318,   355,   281,\n",
            "          198, 24807,   284,  1948,   786,   511, 20038,    26,   674,   198,\n",
            "           82, 13712,   590,   318,   257,  4461,   284,   606,  3914,   514,\n",
            "        15827,   428,   351,   198,   454,   279,  7938,    11,   304,   260,\n",
            "          356,  1716,   374,  1124,    25,   329,   262, 11858,   760,   314,\n",
            "          198, 47350,   428,   287, 16460,   329,  8509,    11,   407,   287,\n",
            "        24613,   329, 15827,    13])\n"
          ]
        }
      ],
      "source": [
        "import tiktoken #used by openAI\n",
        "enc = tiktoken.get_encoding(\"gpt2\")\n",
        "print(enc.n_vocab)\n",
        "print(enc.encode(\"hii there\")) # you can have very long seq of int with small vocab and vice versa\n",
        "print(enc.decode([23,65,4400,40,1666]))\n",
        "print(enc.decode([44]))\n",
        "print(enc.decode([444]))\n",
        "print(enc.decode([4444]))\n",
        "text = '''First Citizen:\n",
        "Before we proceed any further, hear me speak.\n",
        "\n",
        "All:\n",
        "Speak, speak.\n",
        "\n",
        "First Citizen:\n",
        "You are all resolved rather to die than to famish?\n",
        "\n",
        "All:\n",
        "Resolved. resolved.\n",
        "\n",
        "First Citizen:\n",
        "First, you know Caius Marcius is chief enemy to the people.\n",
        "\n",
        "All:\n",
        "We know't, we know't.\n",
        "\n",
        "First Citizen:\n",
        "Let us kill him, and we'll have corn at our own price.\n",
        "Is't a verdict?\n",
        "\n",
        "All:\n",
        "No more talking on't; let it be done: away, away!\n",
        "\n",
        "Second Citizen:\n",
        "One word, good citizens.\n",
        "\n",
        "First Citizen:\n",
        "We are accounted poor citizens, the patricians good.\n",
        "What authority surfeits on would relieve us: if they\n",
        "would yield us but the superfluity, while it were\n",
        "wholesome, we might guess they relieved us humanely;\n",
        "but they think we are too dear: the leanness that\n",
        "afflicts us, the object of our misery, is as an\n",
        "inventory to particularise their abundance; our\n",
        "sufferance is a gain to them Let us revenge this with\n",
        "our pikes, ere we become rakes: for the gods know I\n",
        "speak this in hunger for bread, not in thirst for revenge.'''\n",
        "import torch\n",
        "data = torch.tensor(enc.encode(text),dtype=torch.long)\n",
        "print(data.shape, data.dtype)\n",
        "print((data[:1000]))"
      ]
    },
    {
      "cell_type": "code",
      "execution_count": 28,
      "metadata": {
        "colab": {
          "base_uri": "https://localhost:8080/"
        },
        "id": "0XA4b4qfn1p-",
        "outputId": "4b37cf3f-4544-4590-f308-8e80ff57a29a"
      },
      "outputs": [
        {
          "output_type": "stream",
          "name": "stdout",
          "text": [
            "torch.Size([998]) torch.int64\n",
            "tensor([18, 47, 56, 57, 58,  1, 15, 47, 58, 47, 64, 43, 52, 10,  0, 14, 43, 44,\n",
            "        53, 56, 43,  1, 61, 43,  1, 54, 56, 53, 41, 43, 43, 42,  1, 39, 52, 63,\n",
            "         1, 44, 59, 56, 58, 46, 43, 56,  6,  1, 46, 43, 39, 56,  1, 51, 43,  1,\n",
            "        57, 54, 43, 39, 49,  8,  0,  0, 13, 50, 50, 10,  0, 31, 54, 43, 39, 49,\n",
            "         6,  1, 57, 54, 43, 39, 49,  8,  0,  0, 18, 47, 56, 57, 58,  1, 15, 47,\n",
            "        58, 47, 64, 43, 52, 10,  0, 37, 53, 59,  1, 39, 56, 43,  1, 39, 50, 50,\n",
            "         1, 56, 43, 57, 53, 50, 60, 43, 42,  1, 56, 39, 58, 46, 43, 56,  1, 58,\n",
            "        53,  1, 42, 47, 43,  1, 58, 46, 39, 52,  1, 58, 53,  1, 44, 39, 51, 47,\n",
            "        57, 46, 12,  0,  0, 13, 50, 50, 10,  0, 30, 43, 57, 53, 50, 60, 43, 42,\n",
            "         8,  1, 56, 43, 57, 53, 50, 60, 43, 42,  8,  0,  0, 18, 47, 56, 57, 58,\n",
            "         1, 15, 47, 58, 47, 64, 43, 52, 10,  0, 18, 47, 56, 57, 58,  6,  1, 63,\n",
            "        53, 59,  1, 49, 52, 53, 61,  1, 15, 39, 47, 59, 57,  1, 25, 39, 56, 41,\n",
            "        47, 59, 57,  1, 47, 57,  1, 41, 46, 47, 43, 44,  1, 43, 52, 43, 51, 63,\n",
            "         1, 58, 53,  1, 58, 46, 43,  1, 54, 43, 53, 54, 50, 43,  8,  0,  0, 13,\n",
            "        50, 50, 10,  0, 35, 43,  1, 49, 52, 53, 61,  5, 58,  6,  1, 61, 43,  1,\n",
            "        49, 52, 53, 61,  5, 58,  8,  0,  0, 18, 47, 56, 57, 58,  1, 15, 47, 58,\n",
            "        47, 64, 43, 52, 10,  0, 24, 43, 58,  1, 59, 57,  1, 49, 47, 50, 50,  1,\n",
            "        46, 47, 51,  6,  1, 39, 52, 42,  1, 61, 43,  5, 50, 50,  1, 46, 39, 60,\n",
            "        43,  1, 41, 53, 56, 52,  1, 39, 58,  1, 53, 59, 56,  1, 53, 61, 52,  1,\n",
            "        54, 56, 47, 41, 43,  8,  0, 21, 57,  5, 58,  1, 39,  1, 60, 43, 56, 42,\n",
            "        47, 41, 58, 12,  0,  0, 13, 50, 50, 10,  0, 26, 53,  1, 51, 53, 56, 43,\n",
            "         1, 58, 39, 50, 49, 47, 52, 45,  1, 53, 52,  5, 58, 11,  1, 50, 43, 58,\n",
            "         1, 47, 58,  1, 40, 43,  1, 42, 53, 52, 43, 10,  1, 39, 61, 39, 63,  6,\n",
            "         1, 39, 61, 39, 63,  2,  0,  0, 31, 43, 41, 53, 52, 42,  1, 15, 47, 58,\n",
            "        47, 64, 43, 52, 10,  0, 27, 52, 43,  1, 61, 53, 56, 42,  6,  1, 45, 53,\n",
            "        53, 42,  1, 41, 47, 58, 47, 64, 43, 52, 57,  8,  0,  0, 18, 47, 56, 57,\n",
            "        58,  1, 15, 47, 58, 47, 64, 43, 52, 10,  0, 35, 43,  1, 39, 56, 43,  1,\n",
            "        39, 41, 41, 53, 59, 52, 58, 43, 42,  1, 54, 53, 53, 56,  1, 41, 47, 58,\n",
            "        47, 64, 43, 52, 57,  6,  1, 58, 46, 43,  1, 54, 39, 58, 56, 47, 41, 47,\n",
            "        39, 52, 57,  1, 45, 53, 53, 42,  8,  0, 35, 46, 39, 58,  1, 39, 59, 58,\n",
            "        46, 53, 56, 47, 58, 63,  1, 57, 59, 56, 44, 43, 47, 58, 57,  1, 53, 52,\n",
            "         1, 61, 53, 59, 50, 42,  1, 56, 43, 50, 47, 43, 60, 43,  1, 59, 57, 10,\n",
            "         1, 47, 44,  1, 58, 46, 43, 63,  0, 61, 53, 59, 50, 42,  1, 63, 47, 43,\n",
            "        50, 42,  1, 59, 57,  1, 40, 59, 58,  1, 58, 46, 43,  1, 57, 59, 54, 43,\n",
            "        56, 44, 50, 59, 47, 58, 63,  6,  1, 61, 46, 47, 50, 43,  1, 47, 58,  1,\n",
            "        61, 43, 56, 43,  0, 61, 46, 53, 50, 43, 57, 53, 51, 43,  6,  1, 61, 43,\n",
            "         1, 51, 47, 45, 46, 58,  1, 45, 59, 43, 57, 57,  1, 58, 46, 43, 63,  1,\n",
            "        56, 43, 50, 47, 43, 60, 43, 42,  1, 59, 57,  1, 46, 59, 51, 39, 52, 43,\n",
            "        50, 63, 11,  0, 40, 59, 58,  1, 58, 46, 43, 63,  1, 58, 46, 47, 52, 49,\n",
            "         1, 61, 43,  1, 39, 56, 43,  1, 58, 53, 53,  1, 42, 43, 39, 56, 10,  1,\n",
            "        58, 46, 43,  1, 50, 43, 39, 52, 52, 43, 57, 57,  1, 58, 46, 39, 58,  0,\n",
            "        39, 44, 44, 50, 47, 41, 58, 57,  1, 59, 57,  6,  1, 58, 46, 43,  1, 53,\n",
            "        40, 48, 43, 41, 58,  1, 53, 44,  1, 53, 59, 56,  1, 51, 47, 57, 43, 56,\n",
            "        63,  6,  1, 47, 57,  1, 39, 57,  1, 39, 52,  0, 47, 52, 60, 43, 52, 58,\n",
            "        53, 56, 63,  1, 58, 53,  1, 54, 39, 56, 58, 47, 41, 59, 50, 39, 56, 47,\n",
            "        57, 43,  1, 58, 46, 43, 47, 56,  1, 39, 40, 59, 52, 42, 39, 52, 41, 43,\n",
            "        11,  1, 53, 59, 56,  0, 57, 59, 44, 44, 43, 56, 39, 52, 41, 43,  1, 47,\n",
            "        57,  1, 39,  1, 45, 39, 47, 52,  1, 58, 53,  1, 58, 46, 43, 51,  1, 24,\n",
            "        43, 58,  1, 59, 57,  1, 56, 43, 60, 43, 52, 45, 43,  1, 58, 46, 47, 57,\n",
            "         1, 61, 47, 58, 46,  0, 53, 59, 56,  1, 54, 47, 49, 43, 57,  6,  1, 43,\n",
            "        56, 43,  1, 61, 43,  1, 40, 43, 41, 53, 51, 43,  1, 56, 39, 49, 43, 57,\n",
            "        10,  1, 44, 53, 56,  1, 58, 46, 43,  1, 45, 53, 42, 57,  1, 49, 52, 53,\n",
            "        61,  1, 21,  0, 57, 54, 43, 39, 49,  1, 58, 46, 47, 57,  1, 47, 52,  1,\n",
            "        46, 59, 52, 45, 43, 56,  1, 44, 53, 56,  1, 40, 56, 43, 39, 42,  6,  1,\n",
            "        52, 53, 58,  1, 47, 52,  1, 58, 46, 47, 56, 57, 58,  1, 44, 53, 56,  1,\n",
            "        56, 43, 60, 43, 52, 45, 43,  8])\n"
          ]
        }
      ],
      "source": [
        "import torch\n",
        "data = torch.tensor(encode(text),dtype=torch.long)\n",
        "print(data.shape, data.dtype)\n",
        "print(data[:1000])"
      ]
    },
    {
      "cell_type": "code",
      "execution_count": 29,
      "metadata": {
        "id": "RXXpLe9mv99j"
      },
      "outputs": [],
      "source": [
        "#splitiing the data\n",
        "n = int (0.9*len(data))\n",
        "train_data = data[:n]\n",
        "val_data = data[n:]"
      ]
    },
    {
      "cell_type": "code",
      "execution_count": 30,
      "metadata": {
        "colab": {
          "base_uri": "https://localhost:8080/"
        },
        "id": "DbFnh_zeVgKa",
        "outputId": "01888fb3-cae9-4ad5-c9ba-f9a0a0b46fa6"
      },
      "outputs": [
        {
          "output_type": "execute_result",
          "data": {
            "text/plain": [
              "tensor([18, 47, 56, 57, 58,  1, 15, 47, 58])"
            ]
          },
          "metadata": {},
          "execution_count": 30
        }
      ],
      "source": [
        "block_size = 8\n",
        "train_data[:block_size+1]"
      ]
    },
    {
      "cell_type": "code",
      "execution_count": 31,
      "metadata": {
        "id": "uYOjTqgLVrPU"
      },
      "outputs": [],
      "source": [
        "#x = train_data [:block_size]\n",
        "#y = train_data[1:block_size+1]\n",
        "#for t in range(block_size):\n",
        "# context = x[:t+1]\n",
        "# target=y[t]\n",
        "# print(f\"when input is {context} the target is {target}\")"
      ]
    },
    {
      "cell_type": "code",
      "execution_count": 32,
      "metadata": {
        "colab": {
          "base_uri": "https://localhost:8080/"
        },
        "id": "tvQD1NHhs5C7",
        "outputId": "29da9955-b8fa-425a-b9d1-aaf0dd84b4db"
      },
      "outputs": [
        {
          "output_type": "stream",
          "name": "stdout",
          "text": [
            "cpu\n"
          ]
        }
      ],
      "source": [
        "#hyperparameters\n",
        "device = 'cuda' if torch.cuda.is_available() else 'cpu'\n",
        "print(device)\n",
        "learning_rate = 1e-3\n",
        "max_iter = 5000\n",
        "eval_iter = 100\n",
        "n_embed = 32\n",
        "batch_size = 32"
      ]
    },
    {
      "cell_type": "code",
      "execution_count": 33,
      "metadata": {
        "colab": {
          "base_uri": "https://localhost:8080/"
        },
        "id": "B6N1G1m2btlO",
        "outputId": "5aed9327-e8e8-4665-b0de-b2763f886638"
      },
      "outputs": [
        {
          "output_type": "stream",
          "name": "stdout",
          "text": [
            "inputs: \n",
            "torch.Size([4, 8])\n",
            "tensor([[41, 47, 59, 57,  1, 47, 57,  1],\n",
            "        [52, 52, 43, 57, 57,  1, 58, 46],\n",
            "        [ 6,  1, 57, 54, 43, 39, 49,  8],\n",
            "        [ 1, 58, 46, 43, 63,  1, 56, 43]])\n",
            "targets: \n",
            "torch.Size([4, 8])\n",
            "tensor([[47, 59, 57,  1, 47, 57,  1, 41],\n",
            "        [52, 43, 57, 57,  1, 58, 46, 39],\n",
            "        [ 1, 57, 54, 43, 39, 49,  8,  0],\n",
            "        [58, 46, 43, 63,  1, 56, 43, 50]])\n",
            "when input is [41] the target: 47\n",
            "when input is [41, 47] the target: 59\n",
            "when input is [41, 47, 59] the target: 57\n",
            "when input is [41, 47, 59, 57] the target: 1\n",
            "when input is [41, 47, 59, 57, 1] the target: 47\n",
            "when input is [41, 47, 59, 57, 1, 47] the target: 57\n",
            "when input is [41, 47, 59, 57, 1, 47, 57] the target: 1\n",
            "when input is [41, 47, 59, 57, 1, 47, 57, 1] the target: 41\n",
            "when input is [52] the target: 52\n",
            "when input is [52, 52] the target: 43\n",
            "when input is [52, 52, 43] the target: 57\n",
            "when input is [52, 52, 43, 57] the target: 57\n",
            "when input is [52, 52, 43, 57, 57] the target: 1\n",
            "when input is [52, 52, 43, 57, 57, 1] the target: 58\n",
            "when input is [52, 52, 43, 57, 57, 1, 58] the target: 46\n",
            "when input is [52, 52, 43, 57, 57, 1, 58, 46] the target: 39\n",
            "when input is [6] the target: 1\n",
            "when input is [6, 1] the target: 57\n",
            "when input is [6, 1, 57] the target: 54\n",
            "when input is [6, 1, 57, 54] the target: 43\n",
            "when input is [6, 1, 57, 54, 43] the target: 39\n",
            "when input is [6, 1, 57, 54, 43, 39] the target: 49\n",
            "when input is [6, 1, 57, 54, 43, 39, 49] the target: 8\n",
            "when input is [6, 1, 57, 54, 43, 39, 49, 8] the target: 0\n",
            "when input is [1] the target: 58\n",
            "when input is [1, 58] the target: 46\n",
            "when input is [1, 58, 46] the target: 43\n",
            "when input is [1, 58, 46, 43] the target: 63\n",
            "when input is [1, 58, 46, 43, 63] the target: 1\n",
            "when input is [1, 58, 46, 43, 63, 1] the target: 56\n",
            "when input is [1, 58, 46, 43, 63, 1, 56] the target: 43\n",
            "when input is [1, 58, 46, 43, 63, 1, 56, 43] the target: 50\n"
          ]
        }
      ],
      "source": [
        "#dataloader\n",
        "\n",
        "torch.manual_seed(1337)\n",
        "batch_size = 4 #how many independent seq will we process in\n",
        "block_size = 8 #what is the max context length for predictions\n",
        "def get_batch(split):\n",
        "  data=train_data if split =='train' else val_data\n",
        "  ix = torch.randint(len(data)-block_size, (batch_size,)) # starting indices of your subseq\n",
        "  x = torch.stack([data[i:i+block_size] for i in ix])\n",
        "  y = torch.stack([data[i+1:i+block_size+1] for i in ix])\n",
        "  x, y = x.to(device), y.to(device)\n",
        "  return x , y\n",
        "xb , yb = get_batch('train')\n",
        "print('inputs: ')\n",
        "print(xb.shape)\n",
        "print(xb)\n",
        "print('targets: ')\n",
        "print(yb.shape)\n",
        "print(yb)\n",
        "for b in range(batch_size):\n",
        "  for t in range(block_size):\n",
        "    context = xb[b,:t+1]\n",
        "    target = yb[b,t]\n",
        "    print(f\"when input is {context.tolist()} the target: {target}\")\n",
        "\n"
      ]
    },
    {
      "cell_type": "code",
      "execution_count": 41,
      "metadata": {
        "id": "usN0cT8cwdl3"
      },
      "outputs": [],
      "source": [
        "#estimating average loss over many batches as loss over single bacth is very noisy\n",
        "@torch.no_grad() #we are never gonna call backward so pytorch can be more effcient in handling intermediate variables\n",
        "def estimate_loss():\n",
        "  out={} # with train and split as keys\n",
        "  n.eval() # general we have no dropout layers no batchnorm layers as of now\n",
        "  for split in ['train','val']:\n",
        "    losses = torch.zeros(eval_iter)\n",
        "    for k in range(eval_iter):\n",
        "      X,Y = get_batch(split)\n",
        "      logits, loss=n(X,Y)\n",
        "      losses[k]=loss.item()\n",
        "    out[split]=losses.mean()\n",
        "  n.train()\n",
        "  return out\n",
        "\n"
      ]
    },
    {
      "cell_type": "code",
      "source": [
        "#Self-attention: query=WhatIamlookignfor? key=whatdoIcontain? affinites=dotproductb/wkeyandqueries\n",
        "head_size = 32\n",
        "class Head(nn.Module):\n",
        "  def __init__(self,head_size):\n",
        "    super().__init__()\n",
        "    self.key = nn.Linear(n_embed,head_size, bias=False)\n",
        "    self.query = nn.Linear(n_embed,head_size, bias=False)\n",
        "    self.value = nn.Linear(n_embed,head_size, bias=False)\n",
        "    self.register_buffer('tril', torch.tril(torch.ones(block_size, block_size)))\n",
        "\n",
        "  def forward(self,x):\n",
        "    B,T,C = x.shape\n",
        "    k = self.key(x)   #(B,T,16)\n",
        "    q = self.query(x) #(B,T,16)\n",
        "    wei = q@k.transpose(-2,-1) *head_size**-0.5 #  multiplying it scales up\n",
        "\n",
        "    wei = wei.masked_fill(self.tril[:T,:T] == 0, float('-inf'))\n",
        "    wei = f.softmax(wei,dim=1) #(B,T,T)\n",
        "    v = self.value(x)\n",
        "    out = wei @ v\n",
        "    return out\n",
        "#scaled attention softmax at scaled values tends to one hot encodings"
      ],
      "metadata": {
        "id": "13L2wBkp2PkR"
      },
      "execution_count": 51,
      "outputs": []
    },
    {
      "cell_type": "code",
      "execution_count": 52,
      "metadata": {
        "colab": {
          "base_uri": "https://localhost:8080/"
        },
        "id": "jAmg0u_ImPqj",
        "outputId": "2b11411e-f4cf-49e1-cc0c-2fdaf9c3f575"
      },
      "outputs": [
        {
          "output_type": "stream",
          "name": "stdout",
          "text": [
            "torch.Size([32, 65])\n",
            "tensor(4.2038, grad_fn=<NllLossBackward0>)\n"
          ]
        }
      ],
      "source": [
        "import torch\n",
        "import torch.nn as nn\n",
        "from torch.nn import functional as f\n",
        "torch.manual_seed(1337)\n",
        "class BigramLanguageModel(nn.Module):\n",
        "  def __init__(self):\n",
        "    super().__init__()            #remember adding __ not _\n",
        "    self.token_embedding_table = nn.Embedding(vocab_size, n_embed)\n",
        "    self.position_embedding_table= nn.Embedding(block_size,n_embed)\n",
        "    self.sa_head = Head(n_embed)\n",
        "    self.lm_head = nn.Linear(n_embed,vocab_size) #weighted sum or weighted indexing\n",
        "\n",
        "\n",
        "  def forward(self,idx,targets=None):\n",
        "    B,T = idx.shape\n",
        "\n",
        "    token_embed = self.token_embedding_table(idx) #lookup in embedding table and return (B,T,n_embed)\n",
        "    pos_embed = self.position_embedding_table(torch.arange(T, device=device)) #(T,C)\n",
        "    x = token_embed+pos_embed #(B,T,n_embed)\n",
        "    x = self.sa_head(x) # apply one self attention head\n",
        "    logits = self.lm_head(x) #(B,T,vocab_size)\n",
        "\n",
        "\n",
        "    if targets==None:\n",
        "      loss = None\n",
        "    else:\n",
        "      B,T,C = logits.shape\n",
        "      logits = logits.view(B*T,C)\n",
        "      targets=targets.view(B*T)\n",
        "      loss = f.cross_entropy(logits, targets) # ideally the correct dimension of logits should have a high number and other should have a very low number\n",
        "    return logits, loss\n",
        "\n",
        "  def generate(self, idx, max_new_tokens):\n",
        "    #idx is (B,T) array of index in current context\n",
        "    for i in range(max_new_tokens):\n",
        "      idx_cond  = idx[:,-block_size:] # pos_embed may run out of scope\n",
        "      logits, loss = self(idx_cond) #(B,T,C)\n",
        "      logits= logits[:,-1,:]   #(B,C) taking last element if idx is (B,T) as this function is general and kind of sucks in bigram\n",
        "      probs = f.softmax(logits, dim=1) #(B,C)\n",
        "      idx_next = torch.multinomial(probs, num_samples=1) #\n",
        "      idx = torch.cat((idx,idx_next),dim=1) # (B,T+1)\n",
        "    return idx\n",
        "\n",
        "\n",
        "\n",
        "n=BigramLanguageModel()\n",
        "m=n.to(device)\n",
        "out, loss=n(xb,yb)\n",
        "print(out.shape) #BTC tensor\n",
        "print(loss)\n",
        "#Error: Expected target size [4, 65], got [4, 8]; It wants C as second dimension."
      ]
    },
    {
      "cell_type": "code",
      "execution_count": 55,
      "metadata": {
        "colab": {
          "base_uri": "https://localhost:8080/"
        },
        "id": "ICSglTUZn1NO",
        "outputId": "5eab83af-688c-4f99-f958-19d7b67e71af"
      },
      "outputs": [
        {
          "output_type": "stream",
          "name": "stdout",
          "text": [
            "step0: train loss 1.5772, val loss 2.9806\n",
            "step100: train loss 1.5914, val loss 3.0811\n",
            "step200: train loss 1.5386, val loss 2.9077\n",
            "step300: train loss 1.5664, val loss 2.8848\n",
            "step400: train loss 1.5815, val loss 2.8920\n",
            "step500: train loss 1.5622, val loss 2.9878\n",
            "step600: train loss 1.5243, val loss 2.8673\n",
            "step700: train loss 1.5040, val loss 2.8422\n",
            "step800: train loss 1.5173, val loss 3.1556\n",
            "step900: train loss 1.5210, val loss 2.9457\n",
            "step1000: train loss 1.4837, val loss 2.9886\n",
            "step1100: train loss 1.5243, val loss 3.0560\n",
            "step1200: train loss 1.5112, val loss 2.8121\n",
            "step1300: train loss 1.5356, val loss 3.0230\n",
            "step1400: train loss 1.5556, val loss 2.9489\n",
            "step1500: train loss 1.5405, val loss 2.8955\n",
            "step1600: train loss 1.5135, val loss 2.9678\n",
            "step1700: train loss 1.4687, val loss 2.9790\n",
            "step1800: train loss 1.4931, val loss 2.9344\n",
            "step1900: train loss 1.5039, val loss 2.9710\n",
            "step2000: train loss 1.5111, val loss 3.1481\n",
            "step2100: train loss 1.4437, val loss 2.9003\n",
            "step2200: train loss 1.5076, val loss 2.9688\n",
            "step2300: train loss 1.5167, val loss 2.7778\n",
            "step2400: train loss 1.5216, val loss 3.0401\n",
            "step2500: train loss 1.5216, val loss 3.0936\n",
            "step2600: train loss 1.5247, val loss 3.0155\n",
            "step2700: train loss 1.5128, val loss 2.9546\n",
            "step2800: train loss 1.4899, val loss 2.8985\n",
            "step2900: train loss 1.5128, val loss 2.9033\n",
            "step3000: train loss 1.4920, val loss 2.9444\n",
            "step3100: train loss 1.5287, val loss 2.9518\n",
            "step3200: train loss 1.4789, val loss 3.0960\n",
            "step3300: train loss 1.4544, val loss 2.9288\n",
            "step3400: train loss 1.4376, val loss 2.8689\n",
            "step3500: train loss 1.4652, val loss 2.9193\n",
            "step3600: train loss 1.4796, val loss 3.0920\n",
            "step3700: train loss 1.5078, val loss 2.8423\n",
            "step3800: train loss 1.4983, val loss 2.9571\n",
            "step3900: train loss 1.4969, val loss 3.0235\n",
            "step4000: train loss 1.4583, val loss 3.2296\n",
            "step4100: train loss 1.4958, val loss 2.9280\n",
            "step4200: train loss 1.4612, val loss 3.0792\n",
            "step4300: train loss 1.4649, val loss 3.1541\n",
            "step4400: train loss 1.4874, val loss 3.1290\n",
            "step4500: train loss 1.4426, val loss 2.9969\n",
            "step4600: train loss 1.4956, val loss 3.0757\n",
            "step4700: train loss 1.4835, val loss 2.9641\n",
            "step4800: train loss 1.4172, val loss 3.0576\n",
            "step4900: train loss 1.5272, val loss 2.9905\n"
          ]
        }
      ],
      "source": [
        "#optimizer\n",
        "optimizer = torch.optim.AdamW(n.parameters(), lr=learning_rate)\n",
        "for i in range(max_iter):\n",
        "  if i%eval_iter==0:\n",
        "    losses = estimate_loss()\n",
        "    print(f\"step{i}: train loss {losses['train']:.4f}, val loss {losses['val']:.4f}\")\n",
        "\n",
        "  xb, yb =  get_batch('train')\n",
        "  logits,loss  = n(xb,yb)\n",
        "  optimizer.zero_grad(set_to_none=True)\n",
        "  loss.backward()\n",
        "  optimizer.step()\n"
      ]
    },
    {
      "cell_type": "code",
      "execution_count": 57,
      "metadata": {
        "colab": {
          "base_uri": "https://localhost:8080/"
        },
        "id": "eO_rWUzsuF7H",
        "outputId": "f97920e7-f5aa-4662-b351-0e5dc831c8d8"
      },
      "outputs": [
        {
          "output_type": "stream",
          "name": "stdout",
          "text": [
            "\n",
            "Alillilverd, migoory ked.Is?\n",
            "\n",
            "Whey\n",
            "Res urspord, thiet pabut wacitchan the.\n",
            "Allen:\n",
            "Fire\n",
            "buprey\n",
            "Firsean:\n",
            "Firs at the the they frey poritheve onve\n",
            "wol;\n",
            "We wed.\n",
            "Firtizencourty;\n",
            "Redearisut ris, orin't; olve'll:\n",
            "Re goolves mey awey to ore pericitizen:\n",
            "No wus't or pre\n",
            "Bcengooritizel;\n",
            "Firt orictizen:\n",
            "Be owone cus, torifrey\n",
            "Yutheat ccitr onow'll:;\n",
            "Ber al itizenouldins allied wicest s,ours, thmigie.\n",
            "Whieacthow't s por wey to us to liverelilve'll at, oud ours sus't, wely;\n",
            "Wes, goon:\n",
            "wh\n",
            "\n",
            "Firne buthele the.\n",
            "Bed.\n",
            "Wheris, pakins to afl awar\n",
            "for aris: than ortizengoouris to ther wey sufris pory th\n",
            "on:\n",
            "wow't.\n",
            "No sod tor wow'll:;\n",
            "Youres to wo ak, awan ak.\n",
            "Yourenord, pey ighes owo.Is aus't.\n",
            "but suson:\n",
            "Firsow't.\n",
            "Whelak.\n",
            "Whe pa!\n",
            "\n",
            "Aldicthelivelveve res't; od.\n",
            "borey.Is't; abut but wigie they usporile ur hord, ancoured cithmeilearit thicty; olve\n",
            "Allilvered.\n",
            "Whes us, foured.\n",
            "ff tizenak.\n",
            "Spered fre aver awactizen use raris: alveveseris.\n",
            "\n",
            "Be forit?\n",
            "\n",
            "Fire; tort us they\n",
            "Firtizen beveflilvelvey thveritizen:\n",
            "Firacty\n"
          ]
        }
      ],
      "source": [
        "#Generating from the model\n",
        "idx = torch.zeros((1,1), dtype=torch.long, device=device)\n",
        "print(decode(n.generate(idx,1000)[0].tolist()))"
      ]
    }
  ],
  "metadata": {
    "colab": {
      "provenance": [],
      "authorship_tag": "ABX9TyMQqRf9tjvzK8/0lB1doFDj",
      "include_colab_link": true
    },
    "kernelspec": {
      "display_name": "Python 3",
      "name": "python3"
    },
    "language_info": {
      "name": "python"
    }
  },
  "nbformat": 4,
  "nbformat_minor": 0
}